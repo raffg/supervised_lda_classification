{
 "cells": [
  {
   "cell_type": "code",
   "execution_count": 1,
   "metadata": {},
   "outputs": [],
   "source": [
    "import psycopg2"
   ]
  },
  {
   "cell_type": "code",
   "execution_count": 26,
   "metadata": {},
   "outputs": [],
   "source": [
    "connection = psycopg2.connect(\n",
    "    host='localhost',\n",
    "    port=54320,\n",
    "    dbname='ht_db',\n",
    "    user='postgres'\n",
    ")"
   ]
  },
  {
   "cell_type": "code",
   "execution_count": 3,
   "metadata": {},
   "outputs": [],
   "source": [
    "def create_table(name: str, schema: str, connection: psycopg2.extensions.connection):\n",
    "    c = connection.cursor()\n",
    "    ddl = f\"\"\"CREATE TABLE IF NOT EXISTS {name} ({schema})\"\"\"\n",
    "    c.execute(ddl)\n",
    "    connection.commit()\n",
    "    c.close()"
   ]
  },
  {
   "cell_type": "code",
   "execution_count": 4,
   "metadata": {},
   "outputs": [],
   "source": [
    "def insert_values(table_name: str, source: str, connection: psycopg2.extensions.connection):\n",
    "    c = connection.cursor()\n",
    "    with open(source, 'r') as f:\n",
    "        next(f) # to skip header\n",
    "        c.copy_expert(f\"COPY {table_name} FROM STDIN CSV NULL AS ''\", f)\n",
    "    connection.commit()\n",
    "    c.close()"
   ]
  },
  {
   "cell_type": "code",
   "execution_count": 5,
   "metadata": {},
   "outputs": [],
   "source": [
    "def get_values(query: str, connection: psycopg2.extensions.connection):\n",
    "    c = connection.cursor()\n",
    "    c.execute(query)\n",
    "    result = c.fetchone()\n",
    "    print(result)\n",
    "    c.close()"
   ]
  },
  {
   "cell_type": "code",
   "execution_count": 6,
   "metadata": {},
   "outputs": [],
   "source": [
    "def drop_table(name: str, connection: psycopg2.extensions.connection):\n",
    "    c = connection.cursor()\n",
    "    ddl = f\"\"\"DROP TABLE {name}\"\"\"\n",
    "    c.execute(ddl)\n",
    "    connection.commit()\n",
    "    c.close()"
   ]
  },
  {
   "cell_type": "code",
   "execution_count": 7,
   "metadata": {},
   "outputs": [],
   "source": [
    "schema = '''complaint_id integer primary key,\n",
    "complaint_text text not null,\n",
    "was_user_disputed varchar(3),\n",
    "date timestamp without time zone not null,\n",
    "product_id integer,\n",
    "issue_id integer\n",
    "    '''\n",
    "create_table('complaints_users', schema, connection=connection)"
   ]
  },
  {
   "cell_type": "code",
   "execution_count": 8,
   "metadata": {},
   "outputs": [],
   "source": [
    "table_name = 'complaints_users'\n",
    "source = 'data/complaints_users.csv'\n",
    "insert_values(table_name, source, connection=connection)"
   ]
  },
  {
   "cell_type": "code",
   "execution_count": 28,
   "metadata": {},
   "outputs": [
    {
     "name": "stdout",
     "output_type": "stream",
     "text": [
      "(253, \"Problem with a credit reporting company's investigation into an existing problem\", 'Their investigation did not fix an error on your report')\n"
     ]
    }
   ],
   "source": [
    "query = \"SELECT * FROM issues LIMIT 100\"\n",
    "get_values(query, connection)"
   ]
  },
  {
   "cell_type": "code",
   "execution_count": 29,
   "metadata": {},
   "outputs": [],
   "source": [
    "drop_table('complaints_users', connection)\n",
    "drop_table('complaints_companies', connection)\n",
    "drop_table('products', connection)\n",
    "drop_table('issues', connection)"
   ]
  },
  {
   "cell_type": "code",
   "execution_count": null,
   "metadata": {},
   "outputs": [],
   "source": []
  }
 ],
 "metadata": {
  "kernelspec": {
   "display_name": "Python 3",
   "language": "python",
   "name": "python3"
  },
  "language_info": {
   "codemirror_mode": {
    "name": "ipython",
    "version": 3
   },
   "file_extension": ".py",
   "mimetype": "text/x-python",
   "name": "python",
   "nbconvert_exporter": "python",
   "pygments_lexer": "ipython3",
   "version": "3.7.2"
  }
 },
 "nbformat": 4,
 "nbformat_minor": 2
}
